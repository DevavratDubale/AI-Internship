{
  "nbformat": 4,
  "nbformat_minor": 0,
  "metadata": {
    "colab": {
      "provenance": []
    },
    "kernelspec": {
      "name": "python3",
      "display_name": "Python 3"
    },
    "language_info": {
      "name": "python"
    }
  },
  "cells": [
    {
      "cell_type": "code",
      "execution_count": 1,
      "metadata": {
        "id": "wjyrnlKG_XoG"
      },
      "outputs": [],
      "source": [
        "import numpy as np\n",
        "import pandas as pd\n",
        "import matplotlib.pyplot as plt\n",
        "import tensorflow as tf\n",
        "from tensorflow.keras.preprocessing.image import ImageDataGenerator\n",
        "from tensorflow.keras.models import Sequential\n",
        "from tensorflow.keras.layers import Conv2D, MaxPooling2D, Flatten, Dense, Dropout"
      ]
    },
    {
      "cell_type": "code",
      "source": [
        "from google.colab import drive\n",
        "drive.mount('/content/drive')"
      ],
      "metadata": {
        "colab": {
          "base_uri": "https://localhost:8080/"
        },
        "id": "zbV05xL04D0L",
        "outputId": "dcdacfc6-7cd8-4f6b-d380-4a3e7e4b1470"
      },
      "execution_count": 2,
      "outputs": [
        {
          "output_type": "stream",
          "name": "stdout",
          "text": [
            "Drive already mounted at /content/drive; to attempt to forcibly remount, call drive.mount(\"/content/drive\", force_remount=True).\n"
          ]
        }
      ]
    },
    {
      "cell_type": "code",
      "source": [
        "train_gen = ImageDataGenerator(rescale=(1./255),horizontal_flip=True,shear_range=0.2)\n",
        "test_gen = ImageDataGenerator(rescale=(1./255))"
      ],
      "metadata": {
        "id": "Tt_NgMpy42F7"
      },
      "execution_count": 3,
      "outputs": []
    },
    {
      "cell_type": "code",
      "source": [
        "train = train_gen.flow_from_directory('/content/drive/MyDrive/AI_Externship/Bird Dataset/train_data/train_data',\n",
        "                                      target_size=(224, 224),\n",
        "                                      class_mode='categorical', \n",
        "                                      batch_size=32)"
      ],
      "metadata": {
        "colab": {
          "base_uri": "https://localhost:8080/"
        },
        "id": "-OOtaGel47g6",
        "outputId": "b3a9f971-c8b1-4a74-ea4b-f9b3df3efbc2"
      },
      "execution_count": 5,
      "outputs": [
        {
          "output_type": "stream",
          "name": "stdout",
          "text": [
            "Found 150 images belonging to 16 classes.\n"
          ]
        }
      ]
    },
    {
      "cell_type": "code",
      "source": [
        "test = test_gen.flow_from_directory('/content/drive/MyDrive/AI_Externship/Bird Dataset/test_data/test_data',\n",
        "                                    target_size=(224, 224),\n",
        "                                      class_mode='categorical', \n",
        "                                      batch_size=32)"
      ],
      "metadata": {
        "colab": {
          "base_uri": "https://localhost:8080/"
        },
        "id": "SVgJy3m45R8I",
        "outputId": "a0c94ad6-5899-4d3b-8dab-d2a41974db00"
      },
      "execution_count": 6,
      "outputs": [
        {
          "output_type": "stream",
          "name": "stdout",
          "text": [
            "Found 157 images belonging to 16 classes.\n"
          ]
        }
      ]
    },
    {
      "cell_type": "code",
      "source": [
        "train.class_indices  "
      ],
      "metadata": {
        "colab": {
          "base_uri": "https://localhost:8080/"
        },
        "id": "lwhNJ0z15bEp",
        "outputId": "b6454fdd-83a3-40c7-f077-e819dfc8c456"
      },
      "execution_count": 7,
      "outputs": [
        {
          "output_type": "execute_result",
          "data": {
            "text/plain": [
              "{'blasti': 0,\n",
              " 'bonegl': 1,\n",
              " 'brhkyt': 2,\n",
              " 'cbrtsh': 3,\n",
              " 'cmnmyn': 4,\n",
              " 'gretit': 5,\n",
              " 'hilpig': 6,\n",
              " 'himbul': 7,\n",
              " 'himgri': 8,\n",
              " 'hsparo': 9,\n",
              " 'indvul': 10,\n",
              " 'jglowl': 11,\n",
              " 'lbicrw': 12,\n",
              " 'mgprob': 13,\n",
              " 'rebimg': 14,\n",
              " 'wcrsrt': 15}"
            ]
          },
          "metadata": {},
          "execution_count": 7
        }
      ]
    },
    {
      "cell_type": "code",
      "source": [
        "img_size=(224,224)"
      ],
      "metadata": {
        "id": "GrBOpuoc5bpv"
      },
      "execution_count": 8,
      "outputs": []
    },
    {
      "cell_type": "code",
      "source": [
        "model = Sequential()\n",
        "model.add(Conv2D(32, (3, 3), activation='relu', input_shape=(img_size[0], img_size[1], 3)))\n",
        "model.add(MaxPooling2D(pool_size=(2, 2)))\n",
        "model.add(Conv2D(64, (3, 3), activation='relu'))\n",
        "model.add(MaxPooling2D(pool_size=(2, 2)))\n",
        "model.add(Conv2D(128, (3, 3), activation='relu'))\n",
        "model.add(MaxPooling2D(pool_size=(2, 2)))\n",
        "model.add(Flatten())\n",
        "model.add(Dense(256, activation='relu'))\n",
        "model.add(Dropout(0.5))\n",
        "model.add(Dense(len(train.class_indices), activation='softmax'))"
      ],
      "metadata": {
        "id": "o_I-zDVM5hor"
      },
      "execution_count": 9,
      "outputs": []
    },
    {
      "cell_type": "code",
      "source": [
        "model.compile(optimizer='adam', loss='categorical_crossentropy', metrics=['accuracy'])"
      ],
      "metadata": {
        "id": "k111OsCx5iGV"
      },
      "execution_count": 10,
      "outputs": []
    },
    {
      "cell_type": "code",
      "source": [
        "train_steps_per_epoch = train.n // train.batch_size\n",
        "test_steps_per_epoch = test.n // test.batch_size"
      ],
      "metadata": {
        "id": "UlhRInEK5mvq"
      },
      "execution_count": 11,
      "outputs": []
    },
    {
      "cell_type": "code",
      "source": [
        "history = model.fit(\n",
        "    train,\n",
        "    epochs=20,\n",
        "    steps_per_epoch=train_steps_per_epoch,\n",
        "    validation_data=test,\n",
        "    validation_steps=test_steps_per_epoch\n",
        ")"
      ],
      "metadata": {
        "colab": {
          "base_uri": "https://localhost:8080/"
        },
        "id": "4fGNAK4s5qJ9",
        "outputId": "f274b80b-21d8-44f7-b03b-9fff8262925b"
      },
      "execution_count": 12,
      "outputs": [
        {
          "output_type": "stream",
          "name": "stdout",
          "text": [
            "Epoch 1/20\n",
            "4/4 [==============================] - 257s 76s/step - loss: 3.9085 - accuracy: 0.0781 - val_loss: 2.7812 - val_accuracy: 0.0625\n",
            "Epoch 2/20\n",
            "4/4 [==============================] - 115s 33s/step - loss: 2.6477 - accuracy: 0.1780 - val_loss: 2.6560 - val_accuracy: 0.1484\n",
            "Epoch 3/20\n",
            "4/4 [==============================] - 130s 39s/step - loss: 2.5375 - accuracy: 0.1864 - val_loss: 2.6713 - val_accuracy: 0.1719\n",
            "Epoch 4/20\n",
            "4/4 [==============================] - 132s 39s/step - loss: 2.4674 - accuracy: 0.2034 - val_loss: 2.7173 - val_accuracy: 0.1641\n",
            "Epoch 5/20\n",
            "4/4 [==============================] - 134s 39s/step - loss: 2.4176 - accuracy: 0.2109 - val_loss: 2.6873 - val_accuracy: 0.1484\n",
            "Epoch 6/20\n",
            "4/4 [==============================] - 130s 39s/step - loss: 2.1946 - accuracy: 0.3136 - val_loss: 2.6390 - val_accuracy: 0.2500\n",
            "Epoch 7/20\n",
            "4/4 [==============================] - 130s 38s/step - loss: 2.1205 - accuracy: 0.3475 - val_loss: 2.6613 - val_accuracy: 0.2734\n",
            "Epoch 8/20\n",
            "4/4 [==============================] - 131s 38s/step - loss: 1.9827 - accuracy: 0.3475 - val_loss: 2.5464 - val_accuracy: 0.2266\n",
            "Epoch 9/20\n",
            "4/4 [==============================] - 129s 38s/step - loss: 1.8885 - accuracy: 0.3729 - val_loss: 2.7645 - val_accuracy: 0.2344\n",
            "Epoch 10/20\n",
            "4/4 [==============================] - 133s 41s/step - loss: 1.8533 - accuracy: 0.3898 - val_loss: 2.8836 - val_accuracy: 0.1875\n",
            "Epoch 11/20\n",
            "4/4 [==============================] - 131s 39s/step - loss: 2.1001 - accuracy: 0.3559 - val_loss: 2.7655 - val_accuracy: 0.1562\n",
            "Epoch 12/20\n",
            "4/4 [==============================] - 131s 38s/step - loss: 1.9167 - accuracy: 0.3644 - val_loss: 2.8049 - val_accuracy: 0.1875\n",
            "Epoch 13/20\n",
            "4/4 [==============================] - 129s 40s/step - loss: 1.9449 - accuracy: 0.3983 - val_loss: 2.7978 - val_accuracy: 0.1953\n",
            "Epoch 14/20\n",
            "4/4 [==============================] - 131s 39s/step - loss: 1.9546 - accuracy: 0.3644 - val_loss: 2.8946 - val_accuracy: 0.2188\n",
            "Epoch 15/20\n",
            "4/4 [==============================] - 128s 38s/step - loss: 1.7682 - accuracy: 0.4831 - val_loss: 2.7267 - val_accuracy: 0.2578\n",
            "Epoch 16/20\n",
            "4/4 [==============================] - 136s 40s/step - loss: 1.6954 - accuracy: 0.4766 - val_loss: 2.9149 - val_accuracy: 0.2656\n",
            "Epoch 17/20\n",
            "4/4 [==============================] - 134s 39s/step - loss: 1.4051 - accuracy: 0.5932 - val_loss: 2.8768 - val_accuracy: 0.2578\n",
            "Epoch 18/20\n",
            "4/4 [==============================] - 133s 39s/step - loss: 1.3609 - accuracy: 0.6172 - val_loss: 2.9650 - val_accuracy: 0.3047\n",
            "Epoch 19/20\n",
            "4/4 [==============================] - 133s 41s/step - loss: 1.1763 - accuracy: 0.5932 - val_loss: 3.1093 - val_accuracy: 0.2344\n",
            "Epoch 20/20\n",
            "4/4 [==============================] - 135s 40s/step - loss: 1.2303 - accuracy: 0.6641 - val_loss: 3.1990 - val_accuracy: 0.2734\n"
          ]
        }
      ]
    },
    {
      "cell_type": "code",
      "source": [
        "model.save('birdidentification.h5')"
      ],
      "metadata": {
        "id": "9Kk6jk5r5s7n"
      },
      "execution_count": 13,
      "outputs": []
    },
    {
      "cell_type": "code",
      "source": [
        "# Testing\n",
        "\n",
        "import numpy as np\n",
        "from tensorflow.keras.preprocessing import image"
      ],
      "metadata": {
        "id": "vitTIxrSFSTU"
      },
      "execution_count": 14,
      "outputs": []
    },
    {
      "cell_type": "code",
      "source": [
        "img1 = image.load_img('/content/drive/MyDrive/bird.jpg',target_size=(224,224))\n",
        "img1 = image.img_to_array(img1)\n",
        "img1 = np.expand_dims(img1,axis=0)\n",
        "pred = np.argmax(model.predict(img1))\n",
        "print(pred)\n",
        "output = ['blasti', 'bonegl', 'behkyt', 'cbrtsh','cmnmyn','gretit','hilpig','himbul','himgri','hsparo','indvul','jglowl',\n",
        "          'lbicrw','mgprob','rebimg','wcrsrt']\n",
        "print(output[pred])"
      ],
      "metadata": {
        "colab": {
          "base_uri": "https://localhost:8080/"
        },
        "id": "fOVIv4FBFVzK",
        "outputId": "e56e562d-117a-4eb0-e46a-981894396592"
      },
      "execution_count": 15,
      "outputs": [
        {
          "output_type": "stream",
          "name": "stdout",
          "text": [
            "1/1 [==============================] - 0s 156ms/step\n",
            "15\n",
            "wcrsrt\n"
          ]
        }
      ]
    },
    {
      "cell_type": "code",
      "source": [
        "img1 = image.load_img('/content/drive/MyDrive/bird2.jpg',target_size=(224,224))\n",
        "img1 = image.img_to_array(img1)\n",
        "img1 = np.expand_dims(img1,axis=0)\n",
        "pred = np.argmax(model.predict(img1))\n",
        "print(pred)\n",
        "output = ['blasti', 'bonegl', 'behkyt', 'cbrtsh','cmnmyn','gretit','hilpig','himbul','himgri','hsparo','indvul','jglowl',\n",
        "          'lbicrw','mgprob','rebimg','wcrsrt']\n",
        "print(output[pred])"
      ],
      "metadata": {
        "colab": {
          "base_uri": "https://localhost:8080/"
        },
        "id": "WyC3tScCF4Ll",
        "outputId": "5e7cd10f-2d42-476c-8224-55fd12b3ee44"
      },
      "execution_count": 16,
      "outputs": [
        {
          "output_type": "stream",
          "name": "stdout",
          "text": [
            "1/1 [==============================] - 0s 52ms/step\n",
            "7\n",
            "himbul\n"
          ]
        }
      ]
    },
    {
      "cell_type": "code",
      "source": [
        "# Evaluate the model on the testing set\n",
        "loss, accuracy = model.evaluate(test, steps=test_steps_per_epoch)\n",
        "print(f\"Testing Loss: {loss:.4f}\")\n",
        "print(f\"Testing Accuracy: {accuracy:.4f}\")\n",
        "\n",
        "# Plot the training and validation accuracy over epochs\n",
        "plt.plot(history.history['accuracy'])\n",
        "plt.plot(history.history['val_accuracy'])\n",
        "plt.title('Model Accuracy')\n",
        "plt.xlabel('Epoch')\n",
        "plt.ylabel('Accuracy')\n",
        "plt.legend(['train', 'test'], loc='upper left')\n",
        "plt.show()"
      ],
      "metadata": {
        "colab": {
          "base_uri": "https://localhost:8080/",
          "height": 524
        },
        "id": "yeJpT-aAGO2B",
        "outputId": "3fa61ef5-c6a4-46c8-c211-0d8c5ecca7a0"
      },
      "execution_count": 17,
      "outputs": [
        {
          "output_type": "stream",
          "name": "stdout",
          "text": [
            "4/4 [==============================] - 53s 14s/step - loss: 3.1010 - accuracy: 0.2656\n",
            "Testing Loss: 3.1010\n",
            "Testing Accuracy: 0.2656\n"
          ]
        },
        {
          "output_type": "display_data",
          "data": {
            "text/plain": [
              "<Figure size 640x480 with 1 Axes>"
            ],
            "image/png": "[encoded data removed]"
          },
          "metadata": {}
        }
      ]
    },
    {
      "cell_type": "code",
      "source": [
        " model.summary()"
      ],
      "metadata": {
        "colab": {
          "base_uri": "https://localhost:8080/"
        },
        "id": "b26_Q_BAGSYn",
        "outputId": "6d0d76ae-c218-4f01-9340-9fee4621cf5b"
      },
      "execution_count": 18,
      "outputs": [
        {
          "output_type": "stream",
          "name": "stdout",
          "text": [
            "Model: \"sequential\"\n",
            "_________________________________________________________________\n",
            " Layer (type)                Output Shape              Param #   \n",
            "=================================================================\n",
            " conv2d (Conv2D)             (None, 222, 222, 32)      896       \n",
            "                                                                 \n",
            " max_pooling2d (MaxPooling2D  (None, 111, 111, 32)     0         \n",
            " )                                                               \n",
            "                                                                 \n",
            " conv2d_1 (Conv2D)           (None, 109, 109, 64)      18496     \n",
            "                                                                 \n",
            " max_pooling2d_1 (MaxPooling  (None, 54, 54, 64)       0         \n",
            " 2D)                                                             \n",
            "                                                                 \n",
            " conv2d_2 (Conv2D)           (None, 52, 52, 128)       73856     \n",
            "                                                                 \n",
            " max_pooling2d_2 (MaxPooling  (None, 26, 26, 128)      0         \n",
            " 2D)                                                             \n",
            "                                                                 \n",
            " flatten (Flatten)           (None, 86528)             0         \n",
            "                                                                 \n",
            " dense (Dense)               (None, 256)               22151424  \n",
            "                                                                 \n",
            " dropout (Dropout)           (None, 256)               0         \n",
            "                                                                 \n",
            " dense_1 (Dense)             (None, 16)                4112      \n",
            "                                                                 \n",
            "=================================================================\n",
            "Total params: 22,248,784\n",
            "Trainable params: 22,248,784\n",
            "Non-trainable params: 0\n",
            "_________________________________________________________________\n"
          ]
        }
      ]
    }
  ]
}